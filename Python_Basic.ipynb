{
  "cells": [
    {
      "cell_type": "markdown",
      "id": "13978888",
      "metadata": {
        "id": "13978888"
      },
      "source": [
        "# Python Basics Questions — Answers"
      ]
    },
    {
      "cell_type": "markdown",
      "id": "a5863133",
      "metadata": {
        "id": "a5863133"
      },
      "source": [
        "**Q1:** What is Python, and why is it popular?\n",
        "\n",
        "**A:-** Python is a high-level, interpreted programming language known for its simplicity, readability, and versatility. It is popular because of its easy-to-learn syntax, large standard library, community support, and wide application in fields such as web development, data science, AI, automation, and more."
      ]
    },
    {
      "cell_type": "markdown",
      "id": "a0191376",
      "metadata": {
        "id": "a0191376"
      },
      "source": [
        "**Q2:** What is an interpreter in Python?\n",
        "\n",
        "**A:-** An interpreter is a program that executes Python code line-by-line, converting it into machine code at runtime without the need for prior compilation."
      ]
    },
    {
      "cell_type": "markdown",
      "id": "2df19203",
      "metadata": {
        "id": "2df19203"
      },
      "source": [
        "**Q3:** What are pre-defined keywords in Python?\n",
        "\n",
        "**A:-** Keywords are reserved words in Python with special meanings (e.g., `if`, `for`, `while`, `class`, `def`). They cannot be used as variable names."
      ]
    },
    {
      "cell_type": "markdown",
      "id": "63607980",
      "metadata": {
        "id": "63607980"
      },
      "source": [
        "**Q4:** Can keywords be used as variable names?\n",
        "\n",
        "**A:-** No, keywords are reserved by Python and cannot be used as variable names."
      ]
    },
    {
      "cell_type": "markdown",
      "id": "f874da8f",
      "metadata": {
        "id": "f874da8f"
      },
      "source": [
        "**Q5:** What is mutability in Python?\n",
        "\n",
        "**A:-** Mutability refers to whether an object’s state or contents can be changed after creation. Mutable objects (like lists) can be altered, whereas immutable objects (like tuples) cannot."
      ]
    },
    {
      "cell_type": "markdown",
      "id": "5f8f5afa",
      "metadata": {
        "id": "5f8f5afa"
      },
      "source": [
        "**Q6:** Why are lists mutable, but tuples are immutable?\n",
        "\n",
        "**A:-** Lists are designed to allow modifications after creation (add, remove, update elements), while tuples are fixed-size and unchangeable after creation for safety and performance reasons."
      ]
    },
    {
      "cell_type": "markdown",
      "id": "e870d334",
      "metadata": {
        "id": "e870d334"
      },
      "source": [
        "**Q7:** What is the difference between '==' and 'is' operators in Python?\n",
        "\n",
        "**A:-** `==` checks for value equality (whether the contents are the same), while `is` checks for identity (whether both references point to the same object in memory)."
      ]
    },
    {
      "cell_type": "markdown",
      "id": "00ae4619",
      "metadata": {
        "id": "00ae4619"
      },
      "source": [
        "**Q8:** What are logical operators in Python?\n",
        "\n",
        "**A:-** Logical operators are `and`, `or`, and `not`, used to combine or invert boolean expressions."
      ]
    },
    {
      "cell_type": "markdown",
      "id": "c55c0072",
      "metadata": {
        "id": "c55c0072"
      },
      "source": [
        "**Q9:** What is type casting in Python?\n",
        "\n",
        "**A:** Type casting is converting a value from one data type to another, e.g., `int('5')` to convert a string to an integer."
      ]
    },
    {
      "cell_type": "markdown",
      "id": "0c0442ae",
      "metadata": {
        "id": "0c0442ae"
      },
      "source": [
        "**Q10:** What is the difference between implicit and explicit type casting?\n",
        "\n",
        "**A:-** Implicit casting is done automatically by Python (e.g., `int` to `float` in arithmetic). Explicit casting is done manually using functions like `int()`, `float()`, or `str()`."
      ]
    },
    {
      "cell_type": "markdown",
      "id": "433d5b28",
      "metadata": {
        "id": "433d5b28"
      },
      "source": [
        "**Q11:** What is the purpose of conditional statements in Python?\n",
        "\n",
        "**A:** Conditional statements allow the program to execute certain blocks of code based on specific conditions (e.g., using `if`, `elif`, `else`)."
      ]
    },
    {
      "cell_type": "markdown",
      "id": "81bb6833",
      "metadata": {
        "id": "81bb6833"
      },
      "source": [
        "**Q12:** How does the elif statement work?\n",
        "\n",
        "**A:-** `elif` checks another condition if the previous `if` or `elif` condition was false. It helps chain multiple conditional checks."
      ]
    },
    {
      "cell_type": "markdown",
      "id": "77cc454c",
      "metadata": {
        "id": "77cc454c"
      },
      "source": [
        "**Q13:** What is the difference between for and while loops?\n",
        "\n",
        "**A:-** `for` loops iterate over a sequence or range a fixed number of times. `while` loops run until a given condition becomes false."
      ]
    },
    {
      "cell_type": "markdown",
      "id": "65f5bc8c",
      "metadata": {
        "id": "65f5bc8c"
      },
      "source": [
        "**Q14:** Describe a scenario where a while loop is more suitable than a for loop.\n",
        "\n",
        "**A:-** A while loop is better when the number of iterations is not known in advance, e.g., reading user input until they type 'exit'."
      ]
    },
    {
      "cell_type": "markdown",
      "id": "91737962",
      "metadata": {
        "id": "91737962"
      },
      "source": [
        "# Practical Questions — Solutions"
      ]
    },
    {
      "cell_type": "markdown",
      "id": "ee10675f",
      "metadata": {
        "id": "ee10675f"
      },
      "source": [
        "**Q1:** Write a Python program to print 'Hello, World!'"
      ]
    },
    {
      "cell_type": "code",
      "execution_count": null,
      "id": "10e35049",
      "metadata": {
        "id": "10e35049"
      },
      "outputs": [],
      "source": [
        "print(\"Hello, World!\")"
      ]
    },
    {
      "cell_type": "markdown",
      "id": "6ec56b99",
      "metadata": {
        "id": "6ec56b99"
      },
      "source": [
        "**Q2:** Write a Python program that displays your name and age."
      ]
    },
    {
      "cell_type": "code",
      "execution_count": null,
      "id": "49e29f66",
      "metadata": {
        "id": "49e29f66"
      },
      "outputs": [],
      "source": [
        "name = \"John\"\n",
        "age = 25\n",
        "print(f\"My name is {name} and I am {age} years old.\")"
      ]
    },
    {
      "cell_type": "markdown",
      "id": "40d7ef78",
      "metadata": {
        "id": "40d7ef78"
      },
      "source": [
        "**Q3:** Write code to print all the pre-defined keywords in Python using the keyword library."
      ]
    },
    {
      "cell_type": "code",
      "execution_count": null,
      "id": "9d405c53",
      "metadata": {
        "id": "9d405c53"
      },
      "outputs": [],
      "source": [
        "import keyword\n",
        "print(keyword.kwlist)"
      ]
    },
    {
      "cell_type": "markdown",
      "id": "d984647d",
      "metadata": {
        "id": "d984647d"
      },
      "source": [
        "**Q4:** Write a program that checks if a given word is a Python keyword."
      ]
    },
    {
      "cell_type": "code",
      "execution_count": null,
      "id": "0ce5c878",
      "metadata": {
        "id": "0ce5c878"
      },
      "outputs": [],
      "source": [
        "import keyword\n",
        "word = input(\"Enter a word: \")\n",
        "if keyword.iskeyword(word):\n",
        "    print(f\"{word} is a Python keyword\")\n",
        "else:\n",
        "    print(f\"{word} is not a Python keyword\")"
      ]
    },
    {
      "cell_type": "markdown",
      "id": "ac9ca797",
      "metadata": {
        "id": "ac9ca797"
      },
      "source": [
        "**Q5:** Create a list and tuple in Python, and demonstrate how attempting to change an element works differently for each."
      ]
    },
    {
      "cell_type": "code",
      "execution_count": null,
      "id": "6dea6153",
      "metadata": {
        "id": "6dea6153"
      },
      "outputs": [],
      "source": [
        "my_list = [1, 2, 3]\n",
        "my_tuple = (1, 2, 3)\n",
        "\n",
        "my_list[0] = 10  # Works\n",
        "print(\"Modified list:\", my_list)\n",
        "\n",
        "try:\n",
        "    my_tuple[0] = 10  # Fails\n",
        "except TypeError as e:\n",
        "    print(\"Error modifying tuple:\", e)"
      ]
    },
    {
      "cell_type": "markdown",
      "id": "bacbf850",
      "metadata": {
        "id": "bacbf850"
      },
      "source": [
        "**Q6:** Write a function to demonstrate the behavior of mutable and immutable arguments."
      ]
    },
    {
      "cell_type": "code",
      "execution_count": null,
      "id": "b4014ee5",
      "metadata": {
        "id": "b4014ee5"
      },
      "outputs": [],
      "source": [
        "def modify_list(lst):\n",
        "    lst.append(4)\n",
        "\n",
        "def modify_int(x):\n",
        "    x += 1\n",
        "\n",
        "nums = [1, 2, 3]\n",
        "val = 5\n",
        "modify_list(nums)\n",
        "modify_int(val)\n",
        "print(\"List after modification:\", nums)\n",
        "print(\"Integer after modification:\", val)"
      ]
    },
    {
      "cell_type": "markdown",
      "id": "19067109",
      "metadata": {
        "id": "19067109"
      },
      "source": [
        "**Q7:** Write a program that performs basic arithmetic operations on two user-input numbers."
      ]
    },
    {
      "cell_type": "code",
      "execution_count": null,
      "id": "8d10453a",
      "metadata": {
        "id": "8d10453a"
      },
      "outputs": [],
      "source": [
        "a = float(input(\"Enter first number: \"))\n",
        "b = float(input(\"Enter second number: \"))\n",
        "print(\"Sum:\", a + b)\n",
        "print(\"Difference:\", a - b)\n",
        "print(\"Product:\", a * b)\n",
        "print(\"Quotient:\", a / b)"
      ]
    },
    {
      "cell_type": "markdown",
      "id": "7bd62812",
      "metadata": {
        "id": "7bd62812"
      },
      "source": [
        "**Q8:** Write a program to demonstrate the use of logical operators."
      ]
    },
    {
      "cell_type": "code",
      "execution_count": null,
      "id": "03669240",
      "metadata": {
        "id": "03669240"
      },
      "outputs": [],
      "source": [
        "x = 5\n",
        "y = 10\n",
        "print(x > 0 and y > 0)\n",
        "print(x > 0 or y < 0)\n",
        "print(not(x > 0))"
      ]
    },
    {
      "cell_type": "markdown",
      "id": "6ce3d142",
      "metadata": {
        "id": "6ce3d142"
      },
      "source": [
        "**Q9:** Write a Python program to convert user input from string to integer, float, and boolean types."
      ]
    },
    {
      "cell_type": "code",
      "execution_count": null,
      "id": "58af8e7a",
      "metadata": {
        "id": "58af8e7a"
      },
      "outputs": [],
      "source": [
        "s = input(\"Enter a value: \")\n",
        "print(\"As integer:\", int(s))\n",
        "print(\"As float:\", float(s))\n",
        "print(\"As boolean:\", bool(s))"
      ]
    },
    {
      "cell_type": "markdown",
      "id": "8f59df6b",
      "metadata": {
        "id": "8f59df6b"
      },
      "source": [
        "**Q10:** Write code to demonstrate type casting with list elements."
      ]
    },
    {
      "cell_type": "code",
      "execution_count": null,
      "id": "1b5e7832",
      "metadata": {
        "id": "1b5e7832"
      },
      "outputs": [],
      "source": [
        "str_list = [\"1\", \"2\", \"3\"]\n",
        "int_list = list(map(int, str_list))\n",
        "print(int_list)"
      ]
    },
    {
      "cell_type": "markdown",
      "id": "d2df194a",
      "metadata": {
        "id": "d2df194a"
      },
      "source": [
        "**Q11:** Write a program that checks if a number is positive, negative, or zero."
      ]
    },
    {
      "cell_type": "code",
      "execution_count": null,
      "id": "8d1e160e",
      "metadata": {
        "id": "8d1e160e"
      },
      "outputs": [],
      "source": [
        "num = float(input(\"Enter a number: \"))\n",
        "if num > 0:\n",
        "    print(\"Positive\")\n",
        "elif num < 0:\n",
        "    print(\"Negative\")\n",
        "else:\n",
        "    print(\"Zero\")"
      ]
    },
    {
      "cell_type": "markdown",
      "id": "1ee0704e",
      "metadata": {
        "id": "1ee0704e"
      },
      "source": [
        "**Q12:** Write a for loop to print numbers from 1 to 10."
      ]
    },
    {
      "cell_type": "code",
      "execution_count": null,
      "id": "4fa45e04",
      "metadata": {
        "id": "4fa45e04"
      },
      "outputs": [],
      "source": [
        "for i in range(1, 11):\n",
        "    print(i)"
      ]
    },
    {
      "cell_type": "markdown",
      "id": "557a8136",
      "metadata": {
        "id": "557a8136"
      },
      "source": [
        "**Q13:** Write a Python program to find the sum of all even numbers between 1 and 50."
      ]
    },
    {
      "cell_type": "code",
      "execution_count": null,
      "id": "cb5f39e2",
      "metadata": {
        "id": "cb5f39e2"
      },
      "outputs": [],
      "source": [
        "total = sum(i for i in range(1, 51) if i % 2 == 0)\n",
        "print(total)"
      ]
    },
    {
      "cell_type": "markdown",
      "id": "1279c6da",
      "metadata": {
        "id": "1279c6da"
      },
      "source": [
        "**Q14:** Write a program to reverse a string using a while loop."
      ]
    },
    {
      "cell_type": "code",
      "execution_count": null,
      "id": "4994c659",
      "metadata": {
        "id": "4994c659"
      },
      "outputs": [],
      "source": [
        "s = input(\"Enter a string: \")\n",
        "rev = \"\"\n",
        "i = len(s) - 1\n",
        "while i >= 0:\n",
        "    rev += s[i]\n",
        "    i -= 1\n",
        "print(\"Reversed string:\", rev)"
      ]
    },
    {
      "cell_type": "markdown",
      "id": "8102f95d",
      "metadata": {
        "id": "8102f95d"
      },
      "source": [
        "**Q15:** Write a Python program to calculate the factorial of a number provided by the user using a while loop."
      ]
    },
    {
      "cell_type": "code",
      "execution_count": null,
      "id": "82a581c3",
      "metadata": {
        "id": "82a581c3"
      },
      "outputs": [],
      "source": [
        "n = int(input(\"Enter a number: \"))\n",
        "fact = 1\n",
        "i = 1\n",
        "while i <= n:\n",
        "    fact *= i\n",
        "    i += 1\n",
        "print(\"Factorial:\", fact)"
      ]
    }
  ],
  "metadata": {
    "language_info": {
      "name": "python"
    },
    "colab": {
      "provenance": []
    },
    "kernelspec": {
      "name": "python3",
      "display_name": "Python 3"
    }
  },
  "nbformat": 4,
  "nbformat_minor": 5
}